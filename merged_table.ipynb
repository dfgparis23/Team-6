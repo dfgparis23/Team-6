{
 "cells": [
  {
   "cell_type": "code",
   "execution_count": 44,
   "id": "1e8daec7-8328-45b5-950a-53e435b9c8b2",
   "metadata": {},
   "outputs": [],
   "source": [
    "import pandas as pd"
   ]
  },
  {
   "cell_type": "code",
   "execution_count": 85,
   "id": "d80b9c27-e811-4465-a150-e8d845e0c1b1",
   "metadata": {},
   "outputs": [
    {
     "data": {
      "text/plain": [
       "array(['EUR', 'USD'], dtype=object)"
      ]
     },
     "execution_count": 85,
     "metadata": {},
     "output_type": "execute_result"
    }
   ],
   "source": [
    "Items_and_Opportunities_df['Currency'].unique()"
   ]
  },
  {
   "cell_type": "code",
   "execution_count": 45,
   "id": "1eb0db4a-0cf2-484f-9701-04183a3af44e",
   "metadata": {},
   "outputs": [],
   "source": [
    "Business_Account_df = pd.read_excel('shared_data_read_only/Business Account.xlsx')\n",
    "consumer_price_index_df = pd.read_excel('shared_data_read_only/consumer_price_index.xlsx')\n",
    "Contacts_df = pd.read_excel('shared_data_read_only/Contacts.xlsx')\n",
    "Invoice_and_Opportunities_df = pd.read_excel('shared_data_read_only/Invoice and Opportunities.xlsx')\n",
    "Items_and_Opportunities_df = pd.read_excel('shared_data_read_only/Items and Opportunities.xlsx')\n",
    "Non_Stock_Items_df = pd.read_excel('shared_data_read_only/Non-Stock Items.xlsx')\n",
    "Opportunities_df = pd.read_excel('shared_data_read_only/Opportunities.xlsx')"
   ]
  },
  {
   "cell_type": "code",
   "execution_count": 6,
   "id": "73b40a78-9e9b-493d-afbd-441040d6e749",
   "metadata": {},
   "outputs": [],
   "source": [
    "all_df = [Business_Account_df,\n",
    "          consumer_price_index_df,\n",
    "          Contacts_df,\n",
    "          Invoice_and_Opportunities_df,\n",
    "          Items_and_Opportunities_df,\n",
    "          Non_Stock_Items_df,\n",
    "          Opportunities_df]"
   ]
  },
  {
   "cell_type": "code",
   "execution_count": 23,
   "id": "96d97746-c02d-4325-b995-7c863d9e9bbc",
   "metadata": {},
   "outputs": [
    {
     "name": "stdout",
     "output_type": "stream",
     "text": [
      "(3483, 17)\n",
      "Index(['Business Account', 'Customer Status', 'Type', 'Partner type', 'Class',\n",
      "       'Class Name', 'Activity sector', 'Parent Business Account',\n",
      "       'Owner Name', 'Follow-up with', 'Postal Code', 'City', 'State',\n",
      "       'Country ID', 'Country Name', 'Created On', 'Last Modified On'],\n",
      "      dtype='object')\n",
      "\n",
      "\n",
      "(56, 2)\n",
      "Index(['Date', 'consumer_price_index'], dtype='object')\n",
      "\n",
      "\n",
      "(5511, 17)\n",
      "Index(['ContactID', 'Active', 'Business Account', 'Class', 'Class Name',\n",
      "       'Financing preference', 'Owner', 'Follow-up with', 'Postal Code',\n",
      "       'City', 'State', 'Code pays', 'Country Name', 'Gender', 'Client Source',\n",
      "       'Last Modified On', 'Created On'],\n",
      "      dtype='object')\n",
      "\n",
      "\n",
      "(3238, 6)\n",
      "Index(['Type', 'Reference Nbr.', 'Customer', 'Amount', 'Date',\n",
      "       'Opportunity ID'],\n",
      "      dtype='object')\n",
      "\n",
      "\n",
      "(7458, 14)\n",
      "Index(['Opportunity ID', 'Line Nbr.', 'Inventory ID', 'Year', 'Unit Price',\n",
      "       'Quantity', 'UOM', 'Ext. Price', 'Currency', 'Discount Amount',\n",
      "       'Discount, %', 'Funded Program', 'Free Item', 'Tax Category'],\n",
      "      dtype='object')\n",
      "\n",
      "\n",
      "(97, 9)\n",
      "Index(['Inventory ID', 'Description EN', 'Posting Class', 'Tax Category',\n",
      "       'Base Unit', 'Item Status', 'Created On', 'Last Modified On',\n",
      "       'Default Price'],\n",
      "      dtype='object')\n",
      "\n",
      "\n",
      "(5986, 43)\n",
      "Index(['Opportunity ID', 'Business Account', 'Contact ID',\n",
      "       'Estimated Close Date', 'Status', 'Stage', 'Probability',\n",
      "       'Estimated amount', 'Amount received', 'Difference', 'Owner Name',\n",
      "       'Follow-up with', 'Class ID', 'Class', 'Source', 'Source Campaign',\n",
      "       'Campaign Name', 'Programme financé', 'Action financée', 'Agreement',\n",
      "       'Signature date of the agreement', 'Agreement expiry date',\n",
      "       'Duration of agreement (months)',\n",
      "       'Deadline for submission of interim report', 'Final report deadline',\n",
      "       'Type de contrat', 'Type de financement', 'Zone SDLV',\n",
      "       'Theorical payment date 1', 'Theorical payment amount 1',\n",
      "       'Theorical payment date 2', 'Theorical payment amount 2',\n",
      "       'Theorical payment date 3', 'Theorical payment amount 3',\n",
      "       'Theorical payment date 4', 'Theorical payment amount 4',\n",
      "       'Theorical payment date 5', 'Theorical payment amount 5', 'Created On',\n",
      "       'Last Modified Date', 'Actual Close Date', 'Assignment Date',\n",
      "       'Branch ID'],\n",
      "      dtype='object')\n",
      "\n",
      "\n"
     ]
    }
   ],
   "source": [
    "for df in all_df:\n",
    "    print(df.shape)\n",
    "    print(df.columns)\n",
    "    print(df.info())\n",
    "    print('\\n')"
   ]
  },
  {
   "cell_type": "code",
   "execution_count": 79,
   "id": "fe21d8b2-194d-4de9-b93d-a8d63b635edd",
   "metadata": {},
   "outputs": [],
   "source": [
    "merge_1 = pd.merge(Opportunities_df, Business_Account_df, how='left', on='Business Account')\n",
    "merge_2 = pd.merge(merge_1, Contacts_df, how='left', on='Business Account')\n",
    "merge_3 = pd.merge(merge_2, Items_and_Opportunities_df, how='left', on='Opportunity ID')\n",
    "merge_4 = pd.merge(merge_3, Invoice_and_Opportunities_df, how='left', on='Opportunity ID')\n",
    "merge_df = pd.merge(merge_4, Non_Stock_Items_df, how='left', on='Inventory ID')"
   ]
  },
  {
   "cell_type": "code",
   "execution_count": 80,
   "id": "367d977e-16d8-4130-9d13-d502f2fffe18",
   "metadata": {},
   "outputs": [
    {
     "data": {
      "text/plain": [
       "(38214, 101)"
      ]
     },
     "execution_count": 80,
     "metadata": {},
     "output_type": "execute_result"
    }
   ],
   "source": [
    "merge_df.shape"
   ]
  },
  {
   "cell_type": "code",
   "execution_count": 81,
   "id": "e9de7f76-2ecc-4220-a146-dffd01a7403b",
   "metadata": {},
   "outputs": [],
   "source": [
    "# Split the column based on commas and get a list of items\n",
    "split_data = merge_df['Financing preference'].str.split(',', expand=True).apply(lambda x: x.str.strip())\n",
    "\n",
    "# Gather all unique elements\n",
    "unique_elements = pd.unique(split_data.values.ravel('K')).tolist()\n",
    "unique_elements = [element for element in unique_elements if pd.notna(element)]\n",
    "\n",
    "# Create a dictionary to hold the data for the new DataFrame\n",
    "data_dict = {element: [] for element in unique_elements}\n",
    "\n",
    "# Iterate through each row and populate the dictionary with 1 if the element is present, 0 otherwise\n",
    "for index, row in split_data.iterrows():\n",
    "    row_elements = row.dropna().tolist()\n",
    "    for element in unique_elements:\n",
    "        data_dict[element].append(1 if element in row_elements else 0)\n",
    "\n",
    "# Create a new DataFrame using the dictionary\n",
    "new_df = pd.DataFrame(data_dict)"
   ]
  },
  {
   "cell_type": "code",
   "execution_count": 83,
   "id": "f650218b-d7c3-4bdb-af37-30a43431ebdc",
   "metadata": {},
   "outputs": [
    {
     "data": {
      "text/plain": [
       "(38214, 130)"
      ]
     },
     "execution_count": 83,
     "metadata": {},
     "output_type": "execute_result"
    }
   ],
   "source": [
    "concatenated_df.shape"
   ]
  },
  {
   "cell_type": "code",
   "execution_count": 82,
   "id": "08df8f8b-f37a-4030-b3db-43cb473e32be",
   "metadata": {},
   "outputs": [],
   "source": [
    "concatenated_df = pd.concat([merge_df, new_df], axis=1)"
   ]
  },
  {
   "cell_type": "code",
   "execution_count": null,
   "id": "3a09efd8-be5c-4d8c-b956-58818230b946",
   "metadata": {},
   "outputs": [],
   "source": [
    "concatenated_df.to_csv('merged_transformed_split_financial_preference_into_cols.csv', index=False)"
   ]
  }
 ],
 "metadata": {
  "kernelspec": {
   "display_name": "Python 3",
   "language": "python",
   "name": "python3"
  },
  "language_info": {
   "codemirror_mode": {
    "name": "ipython",
    "version": 3
   },
   "file_extension": ".py",
   "mimetype": "text/x-python",
   "name": "python",
   "nbconvert_exporter": "python",
   "pygments_lexer": "ipython3",
   "version": "3.7.3"
  }
 },
 "nbformat": 4,
 "nbformat_minor": 5
}
